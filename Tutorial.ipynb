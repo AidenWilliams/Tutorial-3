{
 "cells": [
  {
   "cell_type": "markdown",
   "source": [
    "# Morphology (Tutorial 3)\n",
    "***\n",
    "# Table of Contents\n",
    "1.   [Setup](#Setup)\n",
    "2.   [Exercise 1 - Connected Components](#Exercise-1---Connected-Components)\n",
    "3.   [Exercise 2 - Dilation](#Exercise-2---Dilation)\n",
    "4.   [Exercise 3 - Erosion](#Exercise-3---Erosion)\n",
    "5.   [Exercise 4 - Opening](#Exercise-4---Opening)\n",
    "6.   [Exercise 5 - Closing](#Exercise-5---Closing)\n",
    "7.   [Exercise 6 - Line Segmentation](#Exercise-6---Line-Segmentation)"
   ],
   "metadata": {
    "collapsed": false
   }
  },
  {
   "cell_type": "markdown",
   "source": [
    "# Setup\n",
    "\n",
    "These libraries are needed for this project:\n",
    "* opencv (cv2) - For image processing\n",
    "* numpy - For its arrays\n",
    "* matplotlib - Plotting histograms\n",
    "* os - File traversal\n",
    "* tqdm.notebook - tqdm progress bars, but for ipynb files\n",
    "* Classes - Custom classes written by me for this assignment"
   ],
   "metadata": {
    "collapsed": false
   }
  },
  {
   "cell_type": "code",
   "execution_count": 1,
   "outputs": [],
   "source": [
    "%%capture\n",
    "\n",
    "import cv2\n",
    "import numpy as np\n",
    "from matplotlib import pyplot as plt\n",
    "import os\n",
    "from tqdm.notebook import tqdm\n",
    "\n",
    "# A slightly modified generateHistograms function from tutorial 1\n",
    "\n",
    "def generateHistogram(image, title):\n",
    "    hist = cv2.calcHist(image, [0], None, [255], [0, 255])\n",
    "    plt.ylabel('Pixels')\n",
    "    plt.xlabel('Intensity')\n",
    "    plt.title(title)\n",
    "    plt.plot(hist)\n",
    "    plt.xlim([0, 256])\n",
    "    plt.savefig('Histograms/' + title + ' histogram.png')\n",
    "    plt.clf()\n",
    "\n",
    "\n",
    "shapes = cv2.imread('Images/shapes.jpg')\n",
    "euro = cv2.imread('Images/Euro_Coins.jpg')\n",
    "text = cv2.imread('Images/text.png')"
   ],
   "metadata": {
    "collapsed": false,
    "pycharm": {
     "name": "#%%\n"
    }
   }
  },
  {
   "cell_type": "markdown",
   "source": [
    "# Exercise 1 - Connected Components"
   ],
   "metadata": {
    "collapsed": false
   }
  },
  {
   "cell_type": "code",
   "execution_count": 2,
   "outputs": [],
   "source": [
    "def getObjects(image, title):\n",
    "    # gray scale\n",
    "    gray = cv2.cvtColor(image,cv2.COLOR_BGR2GRAY)\n",
    "    # blur using gaussian to help reduce noise\n",
    "    dst = cv2.GaussianBlur(gray,(13,13),cv2.BORDER_DEFAULT)\n",
    "    # treshold image\n",
    "    ret, thresh = cv2.threshold(dst,230,255,cv2.THRESH_BINARY_INV)\n",
    "    # save treshold\n",
    "    cv2.imwrite(\"Output/treshold \"+title+\".png\", thresh, [cv2.IMWRITE_PNG_COMPRESSION, 0])\n",
    "\n",
    "    # get labels\n",
    "    ret, labels = cv2.connectedComponents(thresh)\n",
    "\n",
    "    # Merge image back together\n",
    "    label_hue = np.uint8(179 * labels / np.max(labels))\n",
    "    blank_ch = 255 * np.ones_like(label_hue)\n",
    "    labeled_img = cv2.merge([label_hue, blank_ch, blank_ch])\n",
    "    labeled_img = cv2.cvtColor(labeled_img, cv2.COLOR_HSV2BGR)\n",
    "    labeled_img[label_hue == 0] = 0\n",
    "    # save labels as image\n",
    "    cv2.imwrite(\"Output/\"+title+str(ret-1)+\".png\", labeled_img, [cv2.IMWRITE_PNG_COMPRESSION, 0])\n",
    "\n",
    "getObjects(shapes.copy(), \"shapes\")\n",
    "getObjects(euro.copy(), \"euro\")"
   ],
   "metadata": {
    "collapsed": false,
    "pycharm": {
     "name": "#%%\n"
    }
   }
  },
  {
   "cell_type": "markdown",
   "source": [],
   "metadata": {
    "collapsed": false,
    "pycharm": {
     "name": "#%% md\n"
    }
   }
  },
  {
   "cell_type": "code",
   "execution_count": 3,
   "outputs": [],
   "source": [
    "def getROI(image, title):\n",
    "    # gray scale\n",
    "    gray = cv2.cvtColor(image,cv2.COLOR_BGR2GRAY)\n",
    "    # blur using gaussian to help reduce noise\n",
    "    dst = cv2.GaussianBlur(gray,(13,13),cv2.BORDER_DEFAULT)\n",
    "    # treshold image\n",
    "    ret, thresh = cv2.threshold(dst,230,255,cv2.THRESH_BINARY_INV)\n",
    "    # getting ROIs with findContours\n",
    "    contours = cv2.findContours(thresh, cv2.RETR_EXTERNAL, cv2.CHAIN_APPROX_SIMPLE)[0]\n",
    "    i = 1\n",
    "    for cnt in contours:\n",
    "        (x,y,w,h) = cv2.boundingRect(cnt)\n",
    "        ROI = image[y:y+h,x:x+w]\n",
    "        cv2.imwrite(\"Output/\"+title+\" object \"+str(i)+\".png\", ROI, [cv2.IMWRITE_PNG_COMPRESSION, 0])\n",
    "        i+=1\n",
    "\n",
    "getROI(shapes.copy(), \"shapes\")\n",
    "getROI(euro.copy(), \"euro\")"
   ],
   "metadata": {
    "collapsed": false,
    "pycharm": {
     "name": "#%%\n"
    }
   }
  },
  {
   "cell_type": "markdown",
   "source": [],
   "metadata": {
    "collapsed": false
   }
  },
  {
   "cell_type": "markdown",
   "source": [
    "# Exercise 2 - Dilation"
   ],
   "metadata": {
    "collapsed": false
   }
  },
  {
   "cell_type": "code",
   "execution_count": 4,
   "outputs": [],
   "source": [
    "%%capture\n",
    "kernel = np.ones((3, 3), 'uint8')\n",
    "dilate = cv2.dilate(text.copy(), kernel)\n",
    "cv2.imwrite(\"Output/dilated text 3x3.png\", dilate, [cv2.IMWRITE_PNG_COMPRESSION, 0])\n",
    "kernel = np.ones((5, 5), 'uint8')\n",
    "dilate = cv2.dilate(text.copy(), kernel)\n",
    "cv2.imwrite(\"Output/dilated text 5x5.png\", dilate, [cv2.IMWRITE_PNG_COMPRESSION, 0])"
   ],
   "metadata": {
    "collapsed": false,
    "pycharm": {
     "name": "#%%\n"
    }
   }
  },
  {
   "cell_type": "markdown",
   "source": [],
   "metadata": {
    "collapsed": false
   }
  },
  {
   "cell_type": "markdown",
   "source": [
    "# Exercise 3 - Erosion"
   ],
   "metadata": {
    "collapsed": false
   }
  },
  {
   "cell_type": "code",
   "execution_count": 5,
   "outputs": [],
   "source": [
    "%%capture\n",
    "kernel = np.ones((3, 3), 'uint8')\n",
    "erode = cv2.erode(text.copy(), kernel)\n",
    "cv2.imwrite(\"Output/eroded text 3x3.png\", erode, [cv2.IMWRITE_PNG_COMPRESSION, 0])\n",
    "kernel = np.ones((5, 5), 'uint8')\n",
    "erode = cv2.erode(text.copy(), kernel)\n",
    "cv2.imwrite(\"Output/eroded text 5x5.png\", erode, [cv2.IMWRITE_PNG_COMPRESSION, 0])"
   ],
   "metadata": {
    "collapsed": false,
    "pycharm": {
     "name": "#%%\n"
    }
   }
  },
  {
   "cell_type": "markdown",
   "source": [],
   "metadata": {
    "collapsed": false
   }
  },
  {
   "cell_type": "markdown",
   "source": [
    "# Exercise 4 - Opening"
   ],
   "metadata": {
    "collapsed": false
   }
  },
  {
   "cell_type": "code",
   "execution_count": 6,
   "outputs": [],
   "source": [
    "%%capture\n",
    "kernel = np.ones((3, 3), 'uint8')\n",
    "open = cv2.morphologyEx(text.copy(), cv2.MORPH_OPEN ,kernel)\n",
    "cv2.imwrite(\"Output/open text 3x3.png\", open, [cv2.IMWRITE_PNG_COMPRESSION, 0])\n",
    "kernel = np.ones((5, 5), 'uint8')\n",
    "open = cv2.morphologyEx(text.copy(), cv2.MORPH_OPEN ,kernel)\n",
    "cv2.imwrite(\"Output/open text 5x5.png\", open, [cv2.IMWRITE_PNG_COMPRESSION, 0])\n"
   ],
   "metadata": {
    "collapsed": false,
    "pycharm": {
     "name": "#%%\n"
    }
   }
  },
  {
   "cell_type": "markdown",
   "source": [],
   "metadata": {
    "collapsed": false
   }
  },
  {
   "cell_type": "markdown",
   "source": [
    "# Exercise 5 - Closing"
   ],
   "metadata": {
    "collapsed": false
   }
  },
  {
   "cell_type": "code",
   "execution_count": 7,
   "outputs": [],
   "source": [
    "%%capture\n",
    "kernel = np.ones((3, 3), 'uint8')\n",
    "close = cv2.morphologyEx(text.copy(), cv2.MORPH_CLOSE ,kernel)\n",
    "cv2.imwrite(\"Output/close text 3x3.png\", close, [cv2.IMWRITE_PNG_COMPRESSION, 0])\n",
    "kernel = np.ones((5, 5), 'uint8')\n",
    "close = cv2.morphologyEx(text.copy(), cv2.MORPH_CLOSE ,kernel)\n",
    "cv2.imwrite(\"Output/close text 5x5.png\", close, [cv2.IMWRITE_PNG_COMPRESSION, 0])"
   ],
   "metadata": {
    "collapsed": false,
    "pycharm": {
     "name": "#%%"
    }
   }
  },
  {
   "cell_type": "markdown",
   "source": [],
   "metadata": {
    "collapsed": false
   }
  },
  {
   "cell_type": "markdown",
   "source": [
    "# Exercise 6 - Line Segmentation"
   ],
   "metadata": {
    "collapsed": false
   }
  },
  {
   "cell_type": "code",
   "execution_count": 87,
   "outputs": [
    {
     "data": {
      "text/plain": "True"
     },
     "execution_count": 87,
     "metadata": {},
     "output_type": "execute_result"
    }
   ],
   "source": [
    "gray = cv2.cvtColor(text.copy(),cv2.COLOR_BGR2GRAY)\n",
    "dst = cv2.GaussianBlur(gray, (13,13), cv2.BORDER_DEFAULT)\n",
    "ret, thresh = cv2.threshold(dst, 187, 255, cv2.THRESH_BINARY)\n",
    "kernel = np.ones((3, 24), 'uint8')\n",
    "dilate = cv2.morphologyEx(thresh, cv2.MORPH_DILATE ,kernel)\n",
    "kernel = np.ones((3, 400), 'uint8')\n",
    "erode = cv2.morphologyEx(dilate, cv2.MORPH_ERODE ,kernel)\n",
    "final = cv2.bitwise_not(erode)\n",
    "cv2.imwrite(\"test 0.png\", final, [cv2.IMWRITE_PNG_COMPRESSION, 0])\n",
    "\n",
    "# get labels\n",
    "ret, labels = cv2.connectedComponents(final)\n",
    "\n",
    "# Merge image back together\n",
    "label_hue = np.uint8(179 * labels / np.max(labels))\n",
    "blank_ch = 255 * np.ones_like(label_hue)\n",
    "labeled_img = cv2.merge([label_hue, blank_ch, blank_ch])\n",
    "labeled_img = cv2.cvtColor(labeled_img, cv2.COLOR_HSV2BGR)\n",
    "labeled_img[label_hue == 0] = 0\n",
    "# save labels as image\n",
    "cv2.imwrite(\"test 3.png\", labeled_img, [cv2.IMWRITE_PNG_COMPRESSION, 0])\n",
    "\n",
    "gray = cv2.cvtColor(text.copy(),cv2.COLOR_BGR2GRAY)\n",
    "kernel = np.ones((3, 3), 'uint8')\n",
    "close = cv2.morphologyEx(gray, cv2.MORPH_CLOSE ,kernel)\n",
    "kernel = np.array([[-1,-1,-1], [-1,9,-1], [-1,-1,-1]])\n",
    "im = cv2.filter2D(close, -1, kernel)\n",
    "kernel = np.ones((2, 2), 'uint8')\n",
    "erode = cv2.morphologyEx(im, cv2.MORPH_ERODE ,kernel)\n",
    "ret, thresh = cv2.threshold(erode, 0, 255, cv2.THRESH_BINARY)\n",
    "txt = cv2.bitwise_not(thresh)\n",
    "cv2.imwrite(\"test 4.png\", thresh, [cv2.IMWRITE_PNG_COMPRESSION, 0])\n",
    "\n",
    "\n",
    "c_text = text.copy()\n",
    "for i, x in enumerate(labeled_img):\n",
    "    for j, y in enumerate(x):\n",
    "        # print(np.sum(txt[i][j]))\n",
    "        if np.sum(txt[i][j]) == 255:\n",
    "            c_text[i][j] = y\n",
    "\n",
    "cv2.imwrite(\"test 5.png\", c_text, [cv2.IMWRITE_PNG_COMPRESSION, 0])\n"
   ],
   "metadata": {
    "collapsed": false,
    "pycharm": {
     "name": "#%%\n"
    }
   }
  }
 ],
 "metadata": {
  "kernelspec": {
   "display_name": "Python 3",
   "language": "python",
   "name": "python3"
  },
  "language_info": {
   "codemirror_mode": {
    "name": "ipython",
    "version": 2
   },
   "file_extension": ".py",
   "mimetype": "text/x-python",
   "name": "python",
   "nbconvert_exporter": "python",
   "pygments_lexer": "ipython2",
   "version": "2.7.6"
  }
 },
 "nbformat": 4,
 "nbformat_minor": 0
}