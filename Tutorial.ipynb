{
 "cells": [
  {
   "cell_type": "markdown",
   "source": [
    "# Morphology (Tutorial 3)\n",
    "***\n",
    "# Table of Contents\n",
    "1.   [Imports](#Imports)\n",
    "2.   [Exercise 1 - Connected Components](#Exercise-1---Connected-Components)\n",
    "3.   [Exercise 2 - Dilation](#Exercise-2---Dilation)\n",
    "4.   [Exercise 3 - Erosion](#Exercise-3---Erosion)\n",
    "5.   [Exercise 4 - Opening](#Exercise-4---Opening)\n",
    "6.   [Exercise 5 - Closing](#Exercise-5---Closing)\n",
    "7.   [Exercise 6 - Segmentation](#Exercise-6---Segmentation)"
   ],
   "metadata": {
    "collapsed": false
   }
  },
  {
   "cell_type": "markdown",
   "source": [
    "# Imports\n",
    "\n",
    "Only 4 libraries are needed for this project:\n",
    "* opencv (cv2) - For image processing\n",
    "* numpy - For its arrays\n",
    "* matplotlib - Plotting histograms\n",
    "* os - File traversal\n",
    "* tqdm.notebook - tqdm progress bars, but for ipynb files\n",
    "* Classes - Custom classes written by me for this assignment"
   ],
   "metadata": {
    "collapsed": false
   }
  },
  {
   "cell_type": "code",
   "execution_count": null,
   "outputs": [],
   "source": [
    "import cv2\n",
    "import numpy as np\n",
    "from matplotlib import pyplot as plt\n",
    "import os\n",
    "from tqdm.notebook import tqdm\n",
    "\n",
    "# A slightly modified generateHistograms function from tutorial 1\n",
    "\n",
    "def generateHistogram(image, title, detail):\n",
    "    hist = cv2.calcHist(image, [0], None, [255], [0, 255])\n",
    "    plt.ylabel('Pixels')\n",
    "    plt.xlabel('Intensity')\n",
    "    plt.title(title)\n",
    "    plt.plot(hist)\n",
    "    plt.xlim([0, 256])\n",
    "    plt.savefig(detail + '/'+ title + ' histogram.png')\n",
    "    plt.clf()\n",
    "\n"
   ],
   "metadata": {
    "collapsed": false,
    "pycharm": {
     "name": "#%%\n"
    }
   }
  }
 ],
 "metadata": {
  "kernelspec": {
   "display_name": "Python 3",
   "language": "python",
   "name": "python3"
  },
  "language_info": {
   "codemirror_mode": {
    "name": "ipython",
    "version": 2
   },
   "file_extension": ".py",
   "mimetype": "text/x-python",
   "name": "python",
   "nbconvert_exporter": "python",
   "pygments_lexer": "ipython2",
   "version": "2.7.6"
  }
 },
 "nbformat": 4,
 "nbformat_minor": 0
}